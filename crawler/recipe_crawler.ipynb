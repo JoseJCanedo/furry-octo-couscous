{
 "cells": [
  {
   "cell_type": "code",
   "execution_count": 1,
   "metadata": {},
   "outputs": [],
   "source": [
    "from bs4 import BeautifulSoup\n",
    "\n",
    "import urllib.parse\n",
    "import urllib.request\n",
    "\n",
    "import re"
   ]
  },
  {
   "cell_type": "code",
   "execution_count": 11,
   "metadata": {},
   "outputs": [],
   "source": [
    "query_dict = {\n",
    "    \"search\": \"brownies\",\n",
    "    \"ingIncl\": \"nuts\", \n",
    "    \"ingExcl\": \"\",\n",
    "    \"sort\": \"re\" \n",
    "}\n",
    "\n",
    "base_url = \"https://allrecipes.com/search/results/?\"\n",
    "query_url = urllib.parse.urlencode(query_dict)\n",
    "url = base_url + query_url\n",
    "req = urllib.request.Request(url)\n",
    "req.add_header('Cookie', 'euConsent=true')\n",
    "\n",
    "html_content = urllib.request.urlopen(req).read()\n",
    "\n",
    "soup = BeautifulSoup(html_content, 'html.parser')"
   ]
  },
  {
   "cell_type": "code",
   "execution_count": 26,
   "metadata": {},
   "outputs": [],
   "source": [
    "selected = soup.findAll(\"div\", {\"class\":\"card__detailsContainer-left\"})"
   ]
  },
  {
   "cell_type": "code",
   "execution_count": 29,
   "metadata": {},
   "outputs": [],
   "source": [
    "recipe_card = selected[0]"
   ]
  },
  {
   "cell_type": "code",
   "execution_count": 56,
   "metadata": {},
   "outputs": [],
   "source": [
    "url = recipe_card.a.get(\"href\")\n",
    "name = recipe_card.a.get(\"title\")\n",
    "summary = recipe_card.find(\"div\", {\"class\": \"card__summary\"}).get_text().strip().rstrip()"
   ]
  },
  {
   "cell_type": "code",
   "execution_count": 78,
   "metadata": {},
   "outputs": [],
   "source": [
    "recipe_container = soup.findAll(\"div\", {\"class\":\"card__recipe\"})"
   ]
  },
  {
   "cell_type": "code",
   "execution_count": 80,
   "metadata": {},
   "outputs": [],
   "source": [
    "recipe = recipe_container[0]"
   ]
  },
  {
   "cell_type": "code",
   "execution_count": 82,
   "metadata": {},
   "outputs": [],
   "source": [
    "url = recipe.a.get(\"href\")\n",
    "name = recipe.a.get(\"title\")\n",
    "summary = recipe.find(\"div\", {\"class\": \"card__summary\"}).get_text().strip().rstrip()\n",
    "image = recipe.img.get(\"src\")"
   ]
  },
  {
   "cell_type": "code",
   "execution_count": 94,
   "metadata": {},
   "outputs": [
    {
     "data": {
      "text/plain": [
       "'https://imagesvc.meredithcorp.io/v3/mm/image?url=https%3A%2F%2Fimages.media-allrecipes.com%2Fuserphotos%2F255543.jpg'"
      ]
     },
     "execution_count": 94,
     "metadata": {},
     "output_type": "execute_result"
    }
   ],
   "source": [
    "recipe.img.get(\"src\")"
   ]
  },
  {
   "cell_type": "code",
   "execution_count": null,
   "metadata": {},
   "outputs": [],
   "source": []
  }
 ],
 "metadata": {
  "interpreter": {
   "hash": "8b8334dab9339717f727a1deaf837b322d7a41c20d15cc86be99a8e69ceec8ce"
  },
  "kernelspec": {
   "display_name": "Python 3.8.12 64-bit ('3.8.12')",
   "language": "python",
   "name": "python3"
  },
  "language_info": {
   "codemirror_mode": {
    "name": "ipython",
    "version": 3
   },
   "file_extension": ".py",
   "mimetype": "text/x-python",
   "name": "python",
   "nbconvert_exporter": "python",
   "pygments_lexer": "ipython3",
   "version": "3.8.12"
  },
  "orig_nbformat": 4
 },
 "nbformat": 4,
 "nbformat_minor": 2
}
